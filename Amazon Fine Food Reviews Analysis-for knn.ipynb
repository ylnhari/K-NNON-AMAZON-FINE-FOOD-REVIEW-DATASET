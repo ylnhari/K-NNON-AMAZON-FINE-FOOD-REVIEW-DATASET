{
 "cells": [
  {
   "cell_type": "markdown",
   "metadata": {
    "colab_type": "text",
    "id": "cyXEgMWtMQvM"
   },
   "source": [
    "Amazon Fine Food Reviews Analysis\n",
    "\n",
    "\n",
    "Data Source: https://www.kaggle.com/snap/amazon-fine-food-reviews\n",
    "\n",
    "The Amazon Fine Food Reviews dataset consists of reviews of fine foods from Amazon.<br>\n",
    "\n",
    "Number of reviews: 568,454<br>\n",
    "Number of users: 256,059<br>\n",
    "Number of products: 74,258<br>\n",
    "Timespan: Oct 1999 - Oct 2012<br>\n",
    "Number of Attributes/Columns in data: 10 \n",
    "\n",
    "Attribute Information:\n",
    "\n",
    "1. Id\n",
    "2. ProductId - unique identifier for the product\n",
    "3. UserId - unqiue identifier for the user\n",
    "4. ProfileName\n",
    "5. HelpfulnessNumerator - number of users who found the review helpful\n",
    "6. HelpfulnessDenominator - number of users who indicated whether they found the review helpful or not\n",
    "7. Score - rating between 1 and 5\n",
    "8. Time - timestamp for the review\n",
    "9. Summary - brief summary of the review\n",
    "10. Text - text of the review\n",
    "\n",
    "\n",
    "#### Objective:\n",
    "Given a review, determine whether the review is positive (Rating of 4 or 5) or negative (rating of 1 or 2).\n",
    "\n",
    "<br>\n",
    "[Q] How to determine if a review is positive or negative?<br>\n",
    "<br> \n",
    "[Ans] We could use the Score/Rating. A rating of 4 or 5 could be cosnidered a positive review. A review of 1 or 2 could be considered negative. A review of 3 is nuetral and ignored. This is an approximate and proxy way of determining the polarity (positivity/negativity) of a review.\n",
    "\n",
    "### different techniques such as bag of words,tfidf,avg-wordtovec,tfidf-w2v are employed to represent a review in vector notation in order to label it as positive or negative using different machine leqrning techniques.\n"
   ]
  },
  {
   "cell_type": "markdown",
   "metadata": {
    "colab_type": "text",
    "id": "nTN9VK62MQvN"
   },
   "source": [
    "## [7.1] Loading the data\n",
    "\n",
    "The dataset is available in two forms\n",
    "1. .csv file\n",
    "2. SQLite Database\n",
    "\n",
    "In order to load the data, We have used the SQLITE dataset as it easier to query the data and visualise the data efficiently.\n",
    "<br> \n",
    "\n",
    "Here as we only want to get the global sentiment of the recommendations (positive or negative), we will purposefully ignore all Scores equal to 3. If the score id above 3, then the recommendation wil be set to \"positive\". Otherwise, it will be set to \"negative\"."
   ]
  },
  {
   "cell_type": "code",
   "execution_count": 30,
   "metadata": {
    "colab": {},
    "colab_type": "code",
    "id": "vXnuoQYEMQvO"
   },
   "outputs": [],
   "source": [
    "%matplotlib inline\n",
    "import warnings\n",
    "warnings.filterwarnings(\"ignore\")\n",
    "\n",
    "import sqlite3\n",
    "import pandas as pd\n",
    "import numpy as np\n",
    "import nltk\n",
    "import string\n",
    "import matplotlib.pyplot as plt\n",
    "import seaborn as sns\n",
    "from sklearn.feature_extraction.text import TfidfTransformer\n",
    "from sklearn.feature_extraction.text import TfidfVectorizer\n",
    "\n",
    "from sklearn.feature_extraction.text import CountVectorizer\n",
    "from sklearn.metrics import confusion_matrix\n",
    "from sklearn import metrics\n",
    "from sklearn.metrics import roc_curve, auc\n",
    "from nltk.stem.porter import PorterStemmer\n",
    "\n",
    "import re\n",
    "# Tutorial about Python regular expressions: https://pymotw.com/2/re/\n",
    "import string\n",
    "from nltk.corpus import stopwords\n",
    "from nltk.stem import PorterStemmer\n",
    "from nltk.stem.wordnet import WordNetLemmatizer\n",
    "\n",
    "from gensim.models import Word2Vec\n",
    "from gensim.models import KeyedVectors\n",
    "import pickle\n",
    "\n",
    "from tqdm import tqdm\n",
    "import os"
   ]
  },
  {
   "cell_type": "code",
   "execution_count": 31,
   "metadata": {},
   "outputs": [
    {
     "name": "stdout",
     "output_type": "stream",
     "text": [
      "['/usr/lib/python35.zip', '/usr/lib/python3.5', '/usr/lib/python3.5/plat-x86_64-linux-gnu', '/usr/lib/python3.5/lib-dynload', '', '/home/iamlegendmailme/.local/lib/python3.5/site-packages', '/usr/local/lib/python3.5/dist-packages', '/usr/local/lib/python3.5/site-packages', '/usr/lib/python3/dist-packages', '/usr/local/lib/python3.5/dist-packages/IPython/extensions', '/home/iamlegendmailme/.ipython']\n"
     ]
    }
   ],
   "source": [
    "#append the path in which the required module is present to sys.path if path is not specied before\n",
    "import sys\n",
    "#sys.path.append('./.local/lib/python3.5/site-packages')\n",
    "print(sys.path)\n"
   ]
  },
  {
   "cell_type": "code",
   "execution_count": 3,
   "metadata": {},
   "outputs": [],
   "source": [
    "#install the required package using this command if the required package is not installed in the kernel\n",
    "#!pip3 install gensim"
   ]
  },
  {
   "cell_type": "code",
   "execution_count": 4,
   "metadata": {
    "colab": {},
    "colab_type": "code",
    "id": "-lrJx9N9MQvT"
   },
   "outputs": [
    {
     "name": "stdout",
     "output_type": "stream",
     "text": [
      "Number of data points in our data (525814, 10)\n"
     ]
    },
    {
     "data": {
      "text/html": [
       "<div>\n",
       "<style scoped>\n",
       "    .dataframe tbody tr th:only-of-type {\n",
       "        vertical-align: middle;\n",
       "    }\n",
       "\n",
       "    .dataframe tbody tr th {\n",
       "        vertical-align: top;\n",
       "    }\n",
       "\n",
       "    .dataframe thead th {\n",
       "        text-align: right;\n",
       "    }\n",
       "</style>\n",
       "<table border=\"1\" class=\"dataframe\">\n",
       "  <thead>\n",
       "    <tr style=\"text-align: right;\">\n",
       "      <th></th>\n",
       "      <th>Id</th>\n",
       "      <th>ProductId</th>\n",
       "      <th>UserId</th>\n",
       "      <th>ProfileName</th>\n",
       "      <th>HelpfulnessNumerator</th>\n",
       "      <th>HelpfulnessDenominator</th>\n",
       "      <th>Score</th>\n",
       "      <th>Time</th>\n",
       "      <th>Summary</th>\n",
       "      <th>Text</th>\n",
       "    </tr>\n",
       "  </thead>\n",
       "  <tbody>\n",
       "    <tr>\n",
       "      <th>0</th>\n",
       "      <td>1</td>\n",
       "      <td>B001E4KFG0</td>\n",
       "      <td>A3SGXH7AUHU8GW</td>\n",
       "      <td>delmartian</td>\n",
       "      <td>1</td>\n",
       "      <td>1</td>\n",
       "      <td>1</td>\n",
       "      <td>1303862400</td>\n",
       "      <td>Good Quality Dog Food</td>\n",
       "      <td>I have bought several of the Vitality canned d...</td>\n",
       "    </tr>\n",
       "    <tr>\n",
       "      <th>1</th>\n",
       "      <td>2</td>\n",
       "      <td>B00813GRG4</td>\n",
       "      <td>A1D87F6ZCVE5NK</td>\n",
       "      <td>dll pa</td>\n",
       "      <td>0</td>\n",
       "      <td>0</td>\n",
       "      <td>0</td>\n",
       "      <td>1346976000</td>\n",
       "      <td>Not as Advertised</td>\n",
       "      <td>Product arrived labeled as Jumbo Salted Peanut...</td>\n",
       "    </tr>\n",
       "    <tr>\n",
       "      <th>2</th>\n",
       "      <td>3</td>\n",
       "      <td>B000LQOCH0</td>\n",
       "      <td>ABXLMWJIXXAIN</td>\n",
       "      <td>Natalia Corres \"Natalia Corres\"</td>\n",
       "      <td>1</td>\n",
       "      <td>1</td>\n",
       "      <td>1</td>\n",
       "      <td>1219017600</td>\n",
       "      <td>\"Delight\" says it all</td>\n",
       "      <td>This is a confection that has been around a fe...</td>\n",
       "    </tr>\n",
       "  </tbody>\n",
       "</table>\n",
       "</div>"
      ],
      "text/plain": [
       "   Id   ProductId          UserId                      ProfileName  \\\n",
       "0   1  B001E4KFG0  A3SGXH7AUHU8GW                       delmartian   \n",
       "1   2  B00813GRG4  A1D87F6ZCVE5NK                           dll pa   \n",
       "2   3  B000LQOCH0   ABXLMWJIXXAIN  Natalia Corres \"Natalia Corres\"   \n",
       "\n",
       "   HelpfulnessNumerator  HelpfulnessDenominator  Score        Time  \\\n",
       "0                     1                       1      1  1303862400   \n",
       "1                     0                       0      0  1346976000   \n",
       "2                     1                       1      1  1219017600   \n",
       "\n",
       "                 Summary                                               Text  \n",
       "0  Good Quality Dog Food  I have bought several of the Vitality canned d...  \n",
       "1      Not as Advertised  Product arrived labeled as Jumbo Salted Peanut...  \n",
       "2  \"Delight\" says it all  This is a confection that has been around a fe...  "
      ]
     },
     "execution_count": 4,
     "metadata": {},
     "output_type": "execute_result"
    }
   ],
   "source": [
    "\n",
    "# using the SQLite Table to read data.this data set is used so that it would be easy to query upon the data\n",
    "con = sqlite3.connect('database.sqlite') \n",
    "#here we only read revivews with rating that is either above or below zeroo since 3 is considered a neutral value\n",
    "#a simple select query would do the task for us(so here we are using sqllite dataset instead of a csv file)\n",
    "\n",
    "#filtered_data is a pandas data frame which will hold the positive and negative review data\n",
    "filtered_data = pd.read_sql_query(\"\"\" SELECT * FROM Reviews WHERE Score != 3 \"\"\", con) \n",
    "\n",
    "\n",
    "# Give reviews with Score>3 a positive rating, and reviews with a score<3 a negative rating.\n",
    "def partition(x):\n",
    "    if x < 3:\n",
    "        return 0\n",
    "    return 1\n",
    "\n",
    "#changing reviews with score less than 3 to be positive and vice-versa\n",
    "actualScore = filtered_data['Score']\n",
    "#Here we are storing  the rating scores of the all the reviews in a variable\n",
    "positiveNegative = actualScore.map(partition) \n",
    "#here we will convert rating to either '1' or '0' where 1 being positive and '0' being negative\n",
    "\n",
    "filtered_data['Score'] = positiveNegative\n",
    "#here we will update the score collumn with the changed rating values\n",
    "print(\"Number of data points in our data\", filtered_data.shape)\n",
    "#here we will see all available features for us to solve the ml-problem\n",
    "\n",
    "filtered_data.head(3)"
   ]
  },
  {
   "cell_type": "raw",
   "metadata": {},
   "source": [
    "here we have 500k reviews and 10 features to use in our model"
   ]
  },
  {
   "cell_type": "markdown",
   "metadata": {
    "colab_type": "text",
    "id": "CF7NMcGnMQvX"
   },
   "source": [
    "#  Exploratory Data Analysis\n",
    "\n",
    "Data Cleaning: Deduplication\n",
    "\n",
    "here we check for duplicate entries and remove all of them from our data frame"
   ]
  },
  {
   "cell_type": "code",
   "execution_count": 5,
   "metadata": {
    "colab": {},
    "colab_type": "code",
    "id": "_G5KBj5FMQvY",
    "scrolled": false
   },
   "outputs": [
    {
     "data": {
      "text/html": [
       "<div>\n",
       "<style scoped>\n",
       "    .dataframe tbody tr th:only-of-type {\n",
       "        vertical-align: middle;\n",
       "    }\n",
       "\n",
       "    .dataframe tbody tr th {\n",
       "        vertical-align: top;\n",
       "    }\n",
       "\n",
       "    .dataframe thead th {\n",
       "        text-align: right;\n",
       "    }\n",
       "</style>\n",
       "<table border=\"1\" class=\"dataframe\">\n",
       "  <thead>\n",
       "    <tr style=\"text-align: right;\">\n",
       "      <th></th>\n",
       "      <th>Id</th>\n",
       "      <th>ProductId</th>\n",
       "      <th>UserId</th>\n",
       "      <th>ProfileName</th>\n",
       "      <th>HelpfulnessNumerator</th>\n",
       "      <th>HelpfulnessDenominator</th>\n",
       "      <th>Score</th>\n",
       "      <th>Time</th>\n",
       "      <th>Summary</th>\n",
       "      <th>Text</th>\n",
       "    </tr>\n",
       "  </thead>\n",
       "  <tbody>\n",
       "    <tr>\n",
       "      <th>0</th>\n",
       "      <td>78445</td>\n",
       "      <td>B000HDL1RQ</td>\n",
       "      <td>AR5J8UI46CURR</td>\n",
       "      <td>Geetha Krishnan</td>\n",
       "      <td>2</td>\n",
       "      <td>2</td>\n",
       "      <td>5</td>\n",
       "      <td>1199577600</td>\n",
       "      <td>LOACKER QUADRATINI VANILLA WAFERS</td>\n",
       "      <td>DELICIOUS WAFERS. I FIND THAT EUROPEAN WAFERS ...</td>\n",
       "    </tr>\n",
       "    <tr>\n",
       "      <th>1</th>\n",
       "      <td>138317</td>\n",
       "      <td>B000HDOPYC</td>\n",
       "      <td>AR5J8UI46CURR</td>\n",
       "      <td>Geetha Krishnan</td>\n",
       "      <td>2</td>\n",
       "      <td>2</td>\n",
       "      <td>5</td>\n",
       "      <td>1199577600</td>\n",
       "      <td>LOACKER QUADRATINI VANILLA WAFERS</td>\n",
       "      <td>DELICIOUS WAFERS. I FIND THAT EUROPEAN WAFERS ...</td>\n",
       "    </tr>\n",
       "    <tr>\n",
       "      <th>2</th>\n",
       "      <td>138277</td>\n",
       "      <td>B000HDOPYM</td>\n",
       "      <td>AR5J8UI46CURR</td>\n",
       "      <td>Geetha Krishnan</td>\n",
       "      <td>2</td>\n",
       "      <td>2</td>\n",
       "      <td>5</td>\n",
       "      <td>1199577600</td>\n",
       "      <td>LOACKER QUADRATINI VANILLA WAFERS</td>\n",
       "      <td>DELICIOUS WAFERS. I FIND THAT EUROPEAN WAFERS ...</td>\n",
       "    </tr>\n",
       "    <tr>\n",
       "      <th>3</th>\n",
       "      <td>73791</td>\n",
       "      <td>B000HDOPZG</td>\n",
       "      <td>AR5J8UI46CURR</td>\n",
       "      <td>Geetha Krishnan</td>\n",
       "      <td>2</td>\n",
       "      <td>2</td>\n",
       "      <td>5</td>\n",
       "      <td>1199577600</td>\n",
       "      <td>LOACKER QUADRATINI VANILLA WAFERS</td>\n",
       "      <td>DELICIOUS WAFERS. I FIND THAT EUROPEAN WAFERS ...</td>\n",
       "    </tr>\n",
       "    <tr>\n",
       "      <th>4</th>\n",
       "      <td>155049</td>\n",
       "      <td>B000PAQ75C</td>\n",
       "      <td>AR5J8UI46CURR</td>\n",
       "      <td>Geetha Krishnan</td>\n",
       "      <td>2</td>\n",
       "      <td>2</td>\n",
       "      <td>5</td>\n",
       "      <td>1199577600</td>\n",
       "      <td>LOACKER QUADRATINI VANILLA WAFERS</td>\n",
       "      <td>DELICIOUS WAFERS. I FIND THAT EUROPEAN WAFERS ...</td>\n",
       "    </tr>\n",
       "  </tbody>\n",
       "</table>\n",
       "</div>"
      ],
      "text/plain": [
       "       Id   ProductId         UserId      ProfileName  HelpfulnessNumerator  \\\n",
       "0   78445  B000HDL1RQ  AR5J8UI46CURR  Geetha Krishnan                     2   \n",
       "1  138317  B000HDOPYC  AR5J8UI46CURR  Geetha Krishnan                     2   \n",
       "2  138277  B000HDOPYM  AR5J8UI46CURR  Geetha Krishnan                     2   \n",
       "3   73791  B000HDOPZG  AR5J8UI46CURR  Geetha Krishnan                     2   \n",
       "4  155049  B000PAQ75C  AR5J8UI46CURR  Geetha Krishnan                     2   \n",
       "\n",
       "   HelpfulnessDenominator  Score        Time  \\\n",
       "0                       2      5  1199577600   \n",
       "1                       2      5  1199577600   \n",
       "2                       2      5  1199577600   \n",
       "3                       2      5  1199577600   \n",
       "4                       2      5  1199577600   \n",
       "\n",
       "                             Summary  \\\n",
       "0  LOACKER QUADRATINI VANILLA WAFERS   \n",
       "1  LOACKER QUADRATINI VANILLA WAFERS   \n",
       "2  LOACKER QUADRATINI VANILLA WAFERS   \n",
       "3  LOACKER QUADRATINI VANILLA WAFERS   \n",
       "4  LOACKER QUADRATINI VANILLA WAFERS   \n",
       "\n",
       "                                                Text  \n",
       "0  DELICIOUS WAFERS. I FIND THAT EUROPEAN WAFERS ...  \n",
       "1  DELICIOUS WAFERS. I FIND THAT EUROPEAN WAFERS ...  \n",
       "2  DELICIOUS WAFERS. I FIND THAT EUROPEAN WAFERS ...  \n",
       "3  DELICIOUS WAFERS. I FIND THAT EUROPEAN WAFERS ...  \n",
       "4  DELICIOUS WAFERS. I FIND THAT EUROPEAN WAFERS ...  "
      ]
     },
     "execution_count": 5,
     "metadata": {},
     "output_type": "execute_result"
    }
   ],
   "source": [
    "display= pd.read_sql_query(\"\"\"\n",
    "SELECT *\n",
    "FROM Reviews\n",
    "WHERE Score != 3 AND UserId=\"AR5J8UI46CURR\"\n",
    "ORDER BY ProductID\n",
    "\"\"\", con)\n",
    "display.head()"
   ]
  },
  {
   "cell_type": "markdown",
   "metadata": {
    "colab_type": "text",
    "id": "95Aa3bAYMQvb"
   },
   "source": [
    "As can be seen above the same user has multiple reviews of the with the same values for HelpfulnessNumerator, HelpfulnessDenominator, Score, Time, Summary and Text  and on doing analysis it was found that <br>\n",
    "<br> \n",
    "ProductId=B000HDOPZG was Loacker Quadratini Vanilla Wafer Cookies, 8.82-Ounce Packages (Pack of 8)<br>\n",
    "<br> \n",
    "ProductId=B000HDL1RQ was Loacker Quadratini Lemon Wafer Cookies, 8.82-Ounce Packages (Pack of 8) and so on<br>\n",
    "\n",
    "It was inferred after analysis that reviews with same parameters other than ProductId belonged to the same product just having different flavour or quantity. Hence in order to reduce redundancy it was decided to eliminate the rows having same parameters.<br>\n",
    "\n",
    "The method used for the same was that we first sort the data according to ProductId and then just keep the first similar product review and delelte the others. for eg. in the above just the review for ProductId=B000HDL1RQ remains. This method ensures that there is only one representative for each product and deduplication without sorting would lead to possibility of different representatives still existing for the same product."
   ]
  },
  {
   "cell_type": "code",
   "execution_count": 6,
   "metadata": {
    "colab": {},
    "colab_type": "code",
    "id": "0wUj2BDzMQvc"
   },
   "outputs": [],
   "source": [
    "#Sorting data according to ProductId in ascending order\n",
    "sorted_data=filtered_data.sort_values('ProductId', axis=0, ascending=True, inplace=False, kind='quicksort', na_position='last')"
   ]
  },
  {
   "cell_type": "code",
   "execution_count": 7,
   "metadata": {
    "colab": {},
    "colab_type": "code",
    "id": "hYd69x4KMQve"
   },
   "outputs": [
    {
     "data": {
      "text/plain": [
       "(364173, 10)"
      ]
     },
     "execution_count": 7,
     "metadata": {},
     "output_type": "execute_result"
    }
   ],
   "source": [
    "#Deduplication of entries--> here we will consider userid,profilename,time and also the text entered or the review \n",
    "#as the parametrers to remove thw duplicates\n",
    "final=sorted_data.drop_duplicates(subset={\"UserId\",\"ProfileName\",\"Time\",\"Text\"}, keep='first', inplace=False)\n",
    "final.shape"
   ]
  },
  {
   "cell_type": "markdown",
   "metadata": {},
   "source": [
    "364k points are left after duplicate data points removal"
   ]
  },
  {
   "cell_type": "code",
   "execution_count": 8,
   "metadata": {
    "colab": {},
    "colab_type": "code",
    "id": "_UVH2UNwMQvi"
   },
   "outputs": [
    {
     "data": {
      "text/plain": [
       "69.25890143662969"
      ]
     },
     "execution_count": 8,
     "metadata": {},
     "output_type": "execute_result"
    }
   ],
   "source": [
    "#Checking to see how much % of data still remains\n",
    "(final['Id'].size*1.0)/(filtered_data['Id'].size*1.0)*100"
   ]
  },
  {
   "cell_type": "markdown",
   "metadata": {},
   "source": [
    "only 69 % of the filtered data which is usable in the model is left"
   ]
  },
  {
   "cell_type": "markdown",
   "metadata": {
    "colab_type": "text",
    "id": "GeOy9IcuMQvk"
   },
   "source": [
    "here helpfullness denominator should always be either equal or greater to the helpfullness denominator according to its function so we will remove all those type of data point which is not according to this principle as these points are invalid."
   ]
  },
  {
   "cell_type": "code",
   "execution_count": 9,
   "metadata": {
    "colab": {},
    "colab_type": "code",
    "id": "EDD5FsuGMQvm"
   },
   "outputs": [
    {
     "data": {
      "text/html": [
       "<div>\n",
       "<style scoped>\n",
       "    .dataframe tbody tr th:only-of-type {\n",
       "        vertical-align: middle;\n",
       "    }\n",
       "\n",
       "    .dataframe tbody tr th {\n",
       "        vertical-align: top;\n",
       "    }\n",
       "\n",
       "    .dataframe thead th {\n",
       "        text-align: right;\n",
       "    }\n",
       "</style>\n",
       "<table border=\"1\" class=\"dataframe\">\n",
       "  <thead>\n",
       "    <tr style=\"text-align: right;\">\n",
       "      <th></th>\n",
       "      <th>Id</th>\n",
       "      <th>ProductId</th>\n",
       "      <th>UserId</th>\n",
       "      <th>ProfileName</th>\n",
       "      <th>HelpfulnessNumerator</th>\n",
       "      <th>HelpfulnessDenominator</th>\n",
       "      <th>Score</th>\n",
       "      <th>Time</th>\n",
       "      <th>Summary</th>\n",
       "      <th>Text</th>\n",
       "    </tr>\n",
       "  </thead>\n",
       "  <tbody>\n",
       "    <tr>\n",
       "      <th>0</th>\n",
       "      <td>64422</td>\n",
       "      <td>B000MIDROQ</td>\n",
       "      <td>A161DK06JJMCYF</td>\n",
       "      <td>J. E. Stephens \"Jeanne\"</td>\n",
       "      <td>3</td>\n",
       "      <td>1</td>\n",
       "      <td>5</td>\n",
       "      <td>1224892800</td>\n",
       "      <td>Bought This for My Son at College</td>\n",
       "      <td>My son loves spaghetti so I didn't hesitate or...</td>\n",
       "    </tr>\n",
       "    <tr>\n",
       "      <th>1</th>\n",
       "      <td>44737</td>\n",
       "      <td>B001EQ55RW</td>\n",
       "      <td>A2V0I904FH7ABY</td>\n",
       "      <td>Ram</td>\n",
       "      <td>3</td>\n",
       "      <td>2</td>\n",
       "      <td>4</td>\n",
       "      <td>1212883200</td>\n",
       "      <td>Pure cocoa taste with crunchy almonds inside</td>\n",
       "      <td>It was almost a 'love at first bite' - the per...</td>\n",
       "    </tr>\n",
       "  </tbody>\n",
       "</table>\n",
       "</div>"
      ],
      "text/plain": [
       "      Id   ProductId          UserId              ProfileName  \\\n",
       "0  64422  B000MIDROQ  A161DK06JJMCYF  J. E. Stephens \"Jeanne\"   \n",
       "1  44737  B001EQ55RW  A2V0I904FH7ABY                      Ram   \n",
       "\n",
       "   HelpfulnessNumerator  HelpfulnessDenominator  Score        Time  \\\n",
       "0                     3                       1      5  1224892800   \n",
       "1                     3                       2      4  1212883200   \n",
       "\n",
       "                                        Summary  \\\n",
       "0             Bought This for My Son at College   \n",
       "1  Pure cocoa taste with crunchy almonds inside   \n",
       "\n",
       "                                                Text  \n",
       "0  My son loves spaghetti so I didn't hesitate or...  \n",
       "1  It was almost a 'love at first bite' - the per...  "
      ]
     },
     "execution_count": 9,
     "metadata": {},
     "output_type": "execute_result"
    }
   ],
   "source": [
    "#an exaple for such type of points is \n",
    "display= pd.read_sql_query(\"\"\"\n",
    "SELECT *\n",
    "FROM Reviews\n",
    "WHERE Score != 3 AND Id=44737 OR Id=64422\n",
    "ORDER BY ProductID\n",
    "\"\"\", con)\n",
    "\n",
    "display.head()"
   ]
  },
  {
   "cell_type": "code",
   "execution_count": 10,
   "metadata": {
    "colab": {},
    "colab_type": "code",
    "id": "kThrWN9FMQvq"
   },
   "outputs": [],
   "source": [
    "#here we remove those points using a simple pandas comparision\n",
    "final=final[final.HelpfulnessNumerator<=final.HelpfulnessDenominator]"
   ]
  },
  {
   "cell_type": "code",
   "execution_count": 11,
   "metadata": {
    "colab": {},
    "colab_type": "code",
    "id": "lvw544BEMQvs"
   },
   "outputs": [
    {
     "name": "stdout",
     "output_type": "stream",
     "text": [
      "(364171, 10)\n"
     ]
    },
    {
     "data": {
      "text/plain": [
       "1    307061\n",
       "0     57110\n",
       "Name: Score, dtype: int64"
      ]
     },
     "execution_count": 11,
     "metadata": {},
     "output_type": "execute_result"
    }
   ],
   "source": [
    "#Before starting the next phase of preprocessing lets see the number of entries left\n",
    "print(final.shape)\n",
    "\n",
    "#How many positive and negative reviews are present in our dataset?\n",
    "final['Score'].value_counts()"
   ]
  },
  {
   "cell_type": "markdown",
   "metadata": {},
   "source": [
    "as we can see the no of positive points are large almost 6 times bigger than the no of negative reviews"
   ]
  },
  {
   "cell_type": "markdown",
   "metadata": {
    "colab_type": "text",
    "id": "3-ZDuet8MQvw"
   },
   "source": [
    "Text Preprocessing: Stemming, stop-word removal and Lemmatization.\n",
    "\n",
    "Now that we have finished deduplication our data requires some preprocessing before we go on further with analysis and making the prediction model.\n",
    "\n",
    "Hence in the Preprocessing phase we do the following in the order below:-\n",
    "\n",
    "1. Begin by removing the html tags\n",
    "2. Remove any punctuations or limited set of special characters like , or . or # etc.\n",
    "3. Check if the word is made up of english letters and is not alpha-numeric\n",
    "4. Check to see if the length of the word is greater than 2 (as it was researched that there is no adjective in 2-letters)\n",
    "5. Convert the word to lowercase\n",
    "6. Remove Stopwords\n",
    "7. Finally Snowball Stemming the word (it was obsereved to be better than Porter Stemming)<br>\n",
    "\n",
    "After which we collect the words used to describe positive and negative reviews"
   ]
  },
  {
   "cell_type": "code",
   "execution_count": 12,
   "metadata": {
    "colab": {},
    "colab_type": "code",
    "id": "I2NRwIj6MQvz"
   },
   "outputs": [
    {
     "name": "stdout",
     "output_type": "stream",
     "text": [
      "6\n",
      "I set aside at least an hour each day to read to my son (3 y/o). At this point, I consider myself a connoisseur of children's books and this is one of the best. Santa Clause put this under the tree. Since then, we've read it perpetually and he loves it.<br /><br />First, this book taught him the months of the year.<br /><br />Second, it's a pleasure to read. Well suited to 1.5 y/o old to 4+.<br /><br />Very few children's books are worth owning. Most should be borrowed from the library. This book, however, deserves a permanent spot on your shelf. Sendak's best.\n"
     ]
    }
   ],
   "source": [
    "# find sentences containing HTML tags\n",
    "#we use regular expressions extensively for pattern matching\n",
    "import re\n",
    "i=0;\n",
    "for sent in final['Text'].values:\n",
    "    if (len(re.findall('<.*?>', sent))):\n",
    "        print(i)\n",
    "        print(sent)\n",
    "        break;\n",
    "    i += 1;\n",
    "#here each review is checked for the presence of html tag "
   ]
  },
  {
   "cell_type": "code",
   "execution_count": 13,
   "metadata": {},
   "outputs": [
    {
     "name": "stderr",
     "output_type": "stream",
     "text": [
      "[nltk_data] Downloading package stopwords to\n",
      "[nltk_data]     /home/iamlegendmailme/nltk_data...\n",
      "[nltk_data]   Package stopwords is already up-to-date!\n"
     ]
    },
    {
     "data": {
      "text/plain": [
       "True"
      ]
     },
     "execution_count": 13,
     "metadata": {},
     "output_type": "execute_result"
    }
   ],
   "source": [
    "#use this if stop words are not downloaded in the ntlk package\n",
    "import nltk\n",
    "nltk.download('stopwords')"
   ]
  },
  {
   "cell_type": "code",
   "execution_count": 14,
   "metadata": {
    "colab": {},
    "colab_type": "code",
    "id": "hSYsO2neMQv2"
   },
   "outputs": [
    {
     "name": "stdout",
     "output_type": "stream",
     "text": [
      "below list contains all stop words of nltk package\n",
      "{'were', 'so', \"mightn't\", 'itself', 'whom', 'having', 'about', 'if', \"you're\", 'through', 'you', 'had', 'her', 'shan', 'his', 'will', 'any', 'yours', 'have', \"doesn't\", 'why', 'isn', 'down', 'there', 'theirs', 't', 'now', 'been', \"that'll\", 'herself', 'can', 'hadn', \"don't\", 'over', 'won', 'for', 'do', \"you've\", 'don', 'yourself', 'such', 'too', 'further', 'after', 'other', 'because', \"won't\", 'and', 'they', \"should've\", 'doing', 'when', 'weren', 'it', 'by', \"haven't\", 'she', 'to', 'ourselves', 'out', 'very', 'wasn', 'm', 'themselves', \"hadn't\", \"weren't\", 'each', 'above', 'the', 'in', \"didn't\", 'few', \"wasn't\", 'was', 'who', \"you'd\", 'these', \"you'll\", 'hasn', 'my', 'during', 'not', 'them', 'both', 've', 'mightn', 'which', 'below', 'wouldn', 'an', 'ours', 'o', 'your', 'is', 'be', 'from', 'between', 'on', 'mustn', 's', \"isn't\", 'are', \"she's\", \"shan't\", 'here', 'we', 'hers', 'should', 'their', 'this', 'under', 'll', 'shouldn', 'all', 'has', 'no', 'am', 'how', 'does', 'up', \"couldn't\", 'its', 'i', 'most', 'didn', 'while', 'where', 'before', 'off', \"wouldn't\", 'again', 'just', 'into', 'until', \"aren't\", 'more', \"it's\", 're', 'as', 'ain', 'himself', 'doesn', 'but', 'that', 'couldn', 'at', 'did', 'him', 'only', 'needn', \"needn't\", 'ma', \"hasn't\", 'once', 'than', 'haven', 'being', 'd', 'those', 'then', 'yourselves', 'or', 'of', 'what', 'y', 'aren', 'some', 'same', \"shouldn't\", 'our', 'a', 'against', 'own', 'nor', \"mustn't\", 'with', 'he', 'myself', 'me'}\n",
      "************************************\n",
      "tasti <--- this is the stem word of the word tasty.\n"
     ]
    }
   ],
   "source": [
    "\n",
    "stop = set(stopwords.words('english')) #set of stopwords\n",
    "sno = nltk.stem.SnowballStemmer('english') #initialising the snowball stemmer(words with same meaning)\n",
    "\n",
    "def cleanhtml(sentence): #function to clean the word of any html-tags\n",
    "    cleanr = re.compile('<.*?>')\n",
    "    cleantext = re.sub(cleanr, ' ', sentence) #here html words are replaced with spaces\n",
    "    return cleantext\n",
    "def cleanpunc(sentence): #function to clean the word of any punctuation or special characters\n",
    "    cleaned = re.sub(r'[?|!|\\'|\"|#]',r'',sentence)\n",
    "    cleaned = re.sub(r'[.|,|)|(|\\|/]',r' ',cleaned)\n",
    "    return  cleaned\n",
    "print(\"below list contains all stop words of nltk package\")\n",
    "print(stop)\n",
    "print('************************************')\n",
    "print(sno.stem('tasty'),\"<--- this is the stem word of the word tasty.\")"
   ]
  },
  {
   "cell_type": "code",
   "execution_count": 15,
   "metadata": {},
   "outputs": [
    {
     "data": {
      "text/plain": [
       "True"
      ]
     },
     "execution_count": 15,
     "metadata": {},
     "output_type": "execute_result"
    }
   ],
   "source": [
    "os.path.isfile('final.sqlite')"
   ]
  },
  {
   "cell_type": "code",
   "execution_count": 16,
   "metadata": {
    "colab": {},
    "colab_type": "code",
    "id": "BUGzVaKbMQv5"
   },
   "outputs": [],
   "source": [
    "#Code for implementing step-by-step the checks mentioned in the pre-processing phase\n",
    "# this code takes a while to run as it needs to run on 500k sentences since no of reviews are around 364k\n",
    "if not os.path.isfile('final.sqlite'):\n",
    "    final_string=[]\n",
    "    all_positive_words=[] # store words from +ve reviews here\n",
    "    all_negative_words=[] # store words from -ve reviews here.\n",
    "    for i, sent in enumerate(tqdm(final['Text'].values)):\n",
    "        filtered_sentence=[]\n",
    "        #print(sent);each review is stored in sent variable\n",
    "        sent=cleanhtml(sent) # remove HTMl tags\n",
    "        for w in sent.split():\n",
    "            # we have used cleanpunc(w).split(), one more split function here because consider w=\"abc.def\", cleanpunc(w) will return \"abc def\"\n",
    "            # if we dont use .split() function then we will be considring \"abc def\" as a single word, but if you use .split() function we will get \"abc\", \"def\"\n",
    "            for cleaned_words in cleanpunc(w).split():\n",
    "                if((cleaned_words.isalpha()) & (len(cleaned_words)>2)):    \n",
    "                    if(cleaned_words.lower() not in stop):\n",
    "                        s=(sno.stem(cleaned_words.lower())).encode('utf8')\n",
    "                        filtered_sentence.append(s)\n",
    "                        #every valid word after stemmiing is appended into a list\n",
    "                        if (final['Score'].values)[i] == 1: \n",
    "                            all_positive_words.append(s) #list of all words used to describe positive reviews\n",
    "                        if(final['Score'].values)[i] == 0:\n",
    "                            all_negative_words.append(s) #list of all words used to describe negative reviews reviews\n",
    "        str1 = b\" \".join(filtered_sentence) #final string of cleaned words\n",
    "        #print(\"***********************************************************************\")\n",
    "        final_string.append(str1)\n",
    "\n",
    "    #############---- storing the data into .sqlite file ------########################\n",
    "    final['CleanedText']=final_string #adding a column of CleanedText which displays the data after pre-processing of the review \n",
    "    final['CleanedText']=final['CleanedText'].str.decode(\"utf-8\")\n",
    "        # store final table into an SQlLite table for future.\n",
    "    conn = sqlite3.connect('final.sqlite')\n",
    "    c=conn.cursor()\n",
    "    conn.text_factory = str\n",
    "    final.to_sql('Reviews', conn,  schema=None, if_exists='replace', \\\n",
    "                 index=True, index_label=None, chunksize=None, dtype=None)\n",
    "    conn.close()\n",
    "    \n",
    "    \n",
    "    with open('positive_words.pkl', 'wb') as f:\n",
    "        pickle.dump(all_positive_words, f)\n",
    "    with open('negitive_words.pkl', 'wb') as f:\n",
    "        pickle.dump(all_negative_words, f)"
   ]
  },
  {
   "cell_type": "code",
   "execution_count": 32,
   "metadata": {
    "colab": {},
    "colab_type": "code",
    "id": "bU88yTG9MQv-",
    "scrolled": false
   },
   "outputs": [],
   "source": [
    "#TO CHECK WHETHER OUR SQL FILE IS CREATED SUCCESSFULLY OR NOT\n",
    "if os.path.isfile('final.sqlite'):\n",
    "    conn = sqlite3.connect('final.sqlite')\n",
    "    final = pd.read_sql_query(\"\"\" SELECT * FROM Reviews WHERE Score != 3 \"\"\", conn)\n",
    "    conn.close()\n",
    "else:\n",
    "    print(\"Please run the above cell\")"
   ]
  },
  {
   "cell_type": "code",
   "execution_count": 33,
   "metadata": {},
   "outputs": [],
   "source": [
    "#since the data is huge t-sne algos take longer time to compute so we will use 5000 data points\n",
    "#half from positoive set and rest from negative set\n",
    "data_positive = final[final[\"Score\"] == 1].sample(n = 2500)\n",
    "data_negative = final[final[\"Score\"] == 0].sample(n = 2500)\n"
   ]
  },
  {
   "cell_type": "code",
   "execution_count": 34,
   "metadata": {},
   "outputs": [],
   "source": [
    "#update the final variable with these 5000 data points\n",
    "final = pd.concat([data_positive, data_negative])"
   ]
  },
  {
   "cell_type": "markdown",
   "metadata": {},
   "source": [
    "here we will sort data frame according to the time such that we can split the data to train and test according to time"
   ]
  },
  {
   "cell_type": "code",
   "execution_count": 35,
   "metadata": {},
   "outputs": [],
   "source": [
    "#sorting rows by the time at which reviews were given \n",
    "final =final.sort_values(by='Time')"
   ]
  },
  {
   "cell_type": "code",
   "execution_count": 36,
   "metadata": {},
   "outputs": [
    {
     "name": "stdout",
     "output_type": "stream",
     "text": [
      "(5000,)\n",
      "1    2500\n",
      "0    2500\n",
      "Name: Score, dtype: int64\n"
     ]
    }
   ],
   "source": [
    "#rating value (either positive or negative are stored in score variable)\n",
    "score = final[\"Score\"]\n",
    "print(score.shape)\n",
    "print(score.value_counts())\n"
   ]
  },
  {
   "cell_type": "markdown",
   "metadata": {
    "colab_type": "text",
    "id": "hXA02Hw0MQv_"
   },
   "source": [
    "# Bag of Words (BoW)"
   ]
  },
  {
   "cell_type": "code",
   "execution_count": 37,
   "metadata": {
    "colab": {},
    "colab_type": "code",
    "id": "giCwNM_rMQwA"
   },
   "outputs": [
    {
     "name": "stdout",
     "output_type": "stream",
     "text": [
      "the type of count vectorizer  <class 'scipy.sparse.csr.csr_matrix'>\n",
      "the shape of out text BOW vectorizer  (5000, 9820)\n",
      "the number of unique words  9820\n"
     ]
    }
   ],
   "source": [
    "#BoW\n",
    "count_vect = CountVectorizer() #in scikit-learn\n",
    "#Convert a collection of text documents to a matrix of token counts(changes each review into a vector)\n",
    "#This implementation produces a sparse representation of the counts using scipy.sparse.csr_matrix\n",
    "#which means a very huge sparse matrix is produced for each review using bag of words concept\n",
    "final_counts = count_vect.fit_transform(final['CleanedText'].values)\n",
    "#here words are changes into vectors\n",
    "print(\"the type of count vectorizer \",type(final_counts))\n",
    "print(\"the shape of out text BOW vectorizer \",final_counts.get_shape())\n",
    "print(\"the number of unique words \", final_counts.get_shape()[1])"
   ]
  },
  {
   "cell_type": "markdown",
   "metadata": {
    "colab_type": "text",
    "id": "0Zhvc5AMMQwD"
   },
   "source": [
    "## Bi-Grams and n-Grams.\n",
    "\n",
    "**Motivation**\n",
    "\n",
    "Now that we have our list of words describing positive and negative reviews  and also changed tem into vector \n",
    "representation where we can use the power of linear algebra to analyze them further \n",
    "\n",
    "To find the frequently used words in both type of reviews"
   ]
  },
  {
   "cell_type": "code",
   "execution_count": 38,
   "metadata": {
    "colab": {},
    "colab_type": "code",
    "id": "dmhJ1DOlMQwD"
   },
   "outputs": [
    {
     "name": "stdout",
     "output_type": "stream",
     "text": [
      "Most Common Positive Words :  [(b'like', 139429), (b'tast', 129047), (b'good', 112766), (b'flavor', 109624), (b'love', 107357), (b'use', 103888), (b'great', 103870), (b'one', 96726), (b'product', 91033), (b'tri', 86791), (b'tea', 83888), (b'coffe', 78814), (b'make', 75107), (b'get', 72125), (b'food', 64802), (b'would', 55568), (b'time', 55264), (b'buy', 54198), (b'realli', 52715), (b'eat', 52004)]\n",
      "Most Common Negative Words :  [(b'tast', 34585), (b'like', 32330), (b'product', 28218), (b'one', 20569), (b'flavor', 19575), (b'would', 17972), (b'tri', 17753), (b'use', 15302), (b'good', 15041), (b'coffe', 14716), (b'get', 13786), (b'buy', 13752), (b'order', 12871), (b'food', 12754), (b'dont', 11877), (b'tea', 11665), (b'even', 11085), (b'box', 10844), (b'amazon', 10073), (b'make', 9840)]\n"
     ]
    }
   ],
   "source": [
    "with open('positive_words.pkl', 'rb') as f:\n",
    "    all_positive_words = pickle.load(f)#load the file again into the kernel\n",
    "with open('negitive_words.pkl', 'rb') as f:\n",
    "    all_negative_words = pickle.load(f)\n",
    "    \n",
    "freq_dist_positive=nltk.FreqDist(all_positive_words)\n",
    "#this function calculates the words and their frequency in the corpus and stores them in a nltk object\n",
    "freq_dist_negative=nltk.FreqDist(all_negative_words)\n",
    "print(\"Most Common Positive Words : \",freq_dist_positive.most_common(20))\n",
    "print(\"Most Common Negative Words : \",freq_dist_negative.most_common(20))"
   ]
  },
  {
   "cell_type": "markdown",
   "metadata": {
    "colab_type": "text",
    "id": "UUrdD4vNMQwH"
   },
   "source": [
    "<b>Observation:-</b> From the above it can be seen that the most common positive and the negative words overlap for eg. 'like' could be used as 'not like' etc. <br>\n",
    "So, it is a good idea to consider pairs of consequent words (bi-grams) or q sequnce of n consecutive words (n-grams) since many works can be simply used with not and the entire meaning will be changed just with one word.so, it will be better to use n bi grams instead of unigrams"
   ]
  },
  {
   "cell_type": "code",
   "execution_count": 39,
   "metadata": {
    "colab": {},
    "colab_type": "code",
    "id": "7sDVOf4yMQwI"
   },
   "outputs": [
    {
     "name": "stdout",
     "output_type": "stream",
     "text": [
      "the type of count vectorizer  <class 'scipy.sparse.csr.csr_matrix'>\n",
      "the shape of out text BOW vectorizer  (5000, 141383)\n",
      "the number of unique words including both unigrams and bigrams  141383\n"
     ]
    }
   ],
   "source": [
    "#bi-gram, tri-gram and n-gram\n",
    "\n",
    "#removing stop words like \"not\" should be avoided before building n-grams\n",
    "count_vect = CountVectorizer(ngram_range=(1,2) ) #in scikit-learn\n",
    "final_bigram_counts = count_vect.fit_transform(final['CleanedText'].values)\n",
    "print(\"the type of count vectorizer \",type(final_bigram_counts))\n",
    "print(\"the shape of out text BOW vectorizer \",final_bigram_counts.get_shape())\n",
    "print(\"the number of unique words including both unigrams and bigrams \", final_bigram_counts.get_shape()[1])"
   ]
  },
  {
   "cell_type": "markdown",
   "metadata": {},
   "source": [
    "here we can see a huge increase in dimentions of the matrix when we use bigrams instaed of uni-grams"
   ]
  },
  {
   "cell_type": "markdown",
   "metadata": {
    "colab_type": "text",
    "id": "hdx-Cb0AMQwM"
   },
   "source": [
    "# TF-IDF"
   ]
  },
  {
   "cell_type": "code",
   "execution_count": 40,
   "metadata": {
    "colab": {},
    "colab_type": "code",
    "id": "P-EUwU9nMQwN"
   },
   "outputs": [
    {
     "name": "stdout",
     "output_type": "stream",
     "text": [
      "the type of count vectorizer  <class 'scipy.sparse.csr.csr_matrix'>\n",
      "the shape of out text TFIDF vectorizer  (5000, 9820)\n",
      "the number of unique words including both unigrams and bigrams  9820\n"
     ]
    }
   ],
   "source": [
    "tf_idf_vect = TfidfVectorizer()\n",
    "#tf_idf_vect = TfidfVectorizer(ngram_range=(1,2))\n",
    "#with bigrams dimensions of the vector increases hugely ,so    t-sne takes huge space and time to compute \n",
    "final_tf_idf = tf_idf_vect.fit_transform(final['CleanedText'].values)\n",
    "print(\"the type of count vectorizer \",type(final_tf_idf))\n",
    "print(\"the shape of out text TFIDF vectorizer \",final_tf_idf.get_shape())\n",
    "print(\"the number of unique words including both unigrams and bigrams \", final_tf_idf.get_shape()[1])"
   ]
  },
  {
   "cell_type": "code",
   "execution_count": 41,
   "metadata": {
    "colab": {},
    "colab_type": "code",
    "id": "lOELCSqEMQwQ"
   },
   "outputs": [
    {
     "name": "stdout",
     "output_type": "stream",
     "text": [
      "some sample features(unique words in the corpus) []\n"
     ]
    }
   ],
   "source": [
    "features = tf_idf_vect.get_feature_names()\n",
    "print(\"some sample features(unique words in the corpus)\",features[100000:100010])"
   ]
  },
  {
   "cell_type": "code",
   "execution_count": 42,
   "metadata": {
    "colab": {},
    "colab_type": "code",
    "id": "aRjaZzGdMQwT"
   },
   "outputs": [],
   "source": [
    "\n",
    "# source: https://buhrmann.github.io/tfidf-analysis.html\n",
    "def top_tfidf_feats(row, features, top_n=25):\n",
    "    ''' Get top n tfidf values in row and return them with their corresponding feature names.'''\n",
    "    topn_ids = np.argsort(row)[::-1][:top_n]\n",
    "    #get the indexes of the top features\n",
    "    top_feats = [(features[i], row[i]) for i in topn_ids]\n",
    "    #get the names of those top features using indexes\n",
    "    df = pd.DataFrame(top_feats)\n",
    "    #put them in a data frames\n",
    "    df.columns = ['feature', 'tfidf']\n",
    "    return df\n",
    "\n",
    "top_tfidf = top_tfidf_feats(final_tf_idf[1,:].toarray()[0],features,25)\n",
    "#get the first review and change it into vector form and sent it to the function"
   ]
  },
  {
   "cell_type": "code",
   "execution_count": 43,
   "metadata": {
    "colab": {},
    "colab_type": "code",
    "id": "ayhSkBo8MQwV"
   },
   "outputs": [
    {
     "data": {
      "text/html": [
       "<div>\n",
       "<style scoped>\n",
       "    .dataframe tbody tr th:only-of-type {\n",
       "        vertical-align: middle;\n",
       "    }\n",
       "\n",
       "    .dataframe tbody tr th {\n",
       "        vertical-align: top;\n",
       "    }\n",
       "\n",
       "    .dataframe thead th {\n",
       "        text-align: right;\n",
       "    }\n",
       "</style>\n",
       "<table border=\"1\" class=\"dataframe\">\n",
       "  <thead>\n",
       "    <tr style=\"text-align: right;\">\n",
       "      <th></th>\n",
       "      <th>feature</th>\n",
       "      <th>tfidf</th>\n",
       "    </tr>\n",
       "  </thead>\n",
       "  <tbody>\n",
       "    <tr>\n",
       "      <th>0</th>\n",
       "      <td>japanes</td>\n",
       "      <td>0.315494</td>\n",
       "    </tr>\n",
       "    <tr>\n",
       "      <th>1</th>\n",
       "      <td>cough</td>\n",
       "      <td>0.297763</td>\n",
       "    </tr>\n",
       "    <tr>\n",
       "      <th>2</th>\n",
       "      <td>medicin</td>\n",
       "      <td>0.281016</td>\n",
       "    </tr>\n",
       "    <tr>\n",
       "      <th>3</th>\n",
       "      <td>grape</td>\n",
       "      <td>0.279072</td>\n",
       "    </tr>\n",
       "    <tr>\n",
       "      <th>4</th>\n",
       "      <td>reaction</td>\n",
       "      <td>0.261980</td>\n",
       "    </tr>\n",
       "    <tr>\n",
       "      <th>5</th>\n",
       "      <td>children</td>\n",
       "      <td>0.254873</td>\n",
       "    </tr>\n",
       "    <tr>\n",
       "      <th>6</th>\n",
       "      <td>share</td>\n",
       "      <td>0.234320</td>\n",
       "    </tr>\n",
       "    <tr>\n",
       "      <th>7</th>\n",
       "      <td>gum</td>\n",
       "      <td>0.234320</td>\n",
       "    </tr>\n",
       "    <tr>\n",
       "      <th>8</th>\n",
       "      <td>entir</td>\n",
       "      <td>0.219412</td>\n",
       "    </tr>\n",
       "    <tr>\n",
       "      <th>9</th>\n",
       "      <td>flavor</td>\n",
       "      <td>0.217776</td>\n",
       "    </tr>\n",
       "    <tr>\n",
       "      <th>10</th>\n",
       "      <td>fan</td>\n",
       "      <td>0.216137</td>\n",
       "    </tr>\n",
       "    <tr>\n",
       "      <th>11</th>\n",
       "      <td>throw</td>\n",
       "      <td>0.209460</td>\n",
       "    </tr>\n",
       "    <tr>\n",
       "      <th>12</th>\n",
       "      <td>candi</td>\n",
       "      <td>0.192380</td>\n",
       "    </tr>\n",
       "    <tr>\n",
       "      <th>13</th>\n",
       "      <td>snack</td>\n",
       "      <td>0.185602</td>\n",
       "    </tr>\n",
       "    <tr>\n",
       "      <th>14</th>\n",
       "      <td>peopl</td>\n",
       "      <td>0.180327</td>\n",
       "    </tr>\n",
       "    <tr>\n",
       "      <th>15</th>\n",
       "      <td>anoth</td>\n",
       "      <td>0.174562</td>\n",
       "    </tr>\n",
       "    <tr>\n",
       "      <th>16</th>\n",
       "      <td>pack</td>\n",
       "      <td>0.160907</td>\n",
       "    </tr>\n",
       "    <tr>\n",
       "      <th>17</th>\n",
       "      <td>recommend</td>\n",
       "      <td>0.148743</td>\n",
       "    </tr>\n",
       "    <tr>\n",
       "      <th>18</th>\n",
       "      <td>would</td>\n",
       "      <td>0.116038</td>\n",
       "    </tr>\n",
       "    <tr>\n",
       "      <th>19</th>\n",
       "      <td>tri</td>\n",
       "      <td>0.110267</td>\n",
       "    </tr>\n",
       "    <tr>\n",
       "      <th>20</th>\n",
       "      <td>tast</td>\n",
       "      <td>0.093237</td>\n",
       "    </tr>\n",
       "    <tr>\n",
       "      <th>21</th>\n",
       "      <td>like</td>\n",
       "      <td>0.092778</td>\n",
       "    </tr>\n",
       "    <tr>\n",
       "      <th>22</th>\n",
       "      <td>font</td>\n",
       "      <td>0.000000</td>\n",
       "    </tr>\n",
       "    <tr>\n",
       "      <th>23</th>\n",
       "      <td>fong</td>\n",
       "      <td>0.000000</td>\n",
       "    </tr>\n",
       "    <tr>\n",
       "      <th>24</th>\n",
       "      <td>food</td>\n",
       "      <td>0.000000</td>\n",
       "    </tr>\n",
       "  </tbody>\n",
       "</table>\n",
       "</div>"
      ],
      "text/plain": [
       "      feature     tfidf\n",
       "0     japanes  0.315494\n",
       "1       cough  0.297763\n",
       "2     medicin  0.281016\n",
       "3       grape  0.279072\n",
       "4    reaction  0.261980\n",
       "5    children  0.254873\n",
       "6       share  0.234320\n",
       "7         gum  0.234320\n",
       "8       entir  0.219412\n",
       "9      flavor  0.217776\n",
       "10        fan  0.216137\n",
       "11      throw  0.209460\n",
       "12      candi  0.192380\n",
       "13      snack  0.185602\n",
       "14      peopl  0.180327\n",
       "15      anoth  0.174562\n",
       "16       pack  0.160907\n",
       "17  recommend  0.148743\n",
       "18      would  0.116038\n",
       "19        tri  0.110267\n",
       "20       tast  0.093237\n",
       "21       like  0.092778\n",
       "22       font  0.000000\n",
       "23       fong  0.000000\n",
       "24       food  0.000000"
      ]
     },
     "execution_count": 43,
     "metadata": {},
     "output_type": "execute_result"
    }
   ],
   "source": [
    "top_tfidf"
   ]
  },
  {
   "cell_type": "markdown",
   "metadata": {
    "colab_type": "text",
    "id": "FvLejEvqMQwY"
   },
   "source": [
    "\n",
    "\n",
    "\n",
    "# [7.2.6] Word2Vec"
   ]
  },
  {
   "cell_type": "code",
   "execution_count": 44,
   "metadata": {
    "colab": {},
    "colab_type": "code",
    "id": "3bh2VdnDMQwa",
    "scrolled": true
   },
   "outputs": [],
   "source": [
    "# Using Google News Word2Vectors\n",
    "#this is a state of the art technique which will help in create vectors which can retain semantic information\n",
    "#Word2Vec (w2v) uses a shallow neural network to learn how words are used in a particular text corpus.\n",
    "#The output of w2v is a matrix of vectors (think dataframe or Excel sheet), with each vector (column)\n",
    "#representing a word in the corpus and providing a numerical description of how that word is used in context\n",
    "\n",
    "# this is a pretrained model by google\n",
    "# its 3.3G file, once you load this into your memory \n",
    "# it occupies ~9Gb, so please do this step only if you have >12G of ram\n",
    "# else use a pickle file which contains a dict , \n",
    "# and it contains all amazon courpus words as keys and  model[word] as values\n",
    "# To use this code-snippet, download \"GoogleNews-vectors-negative300.bin\" \n",
    "# from https://drive.google.com/file/d/0B7XkCwpI5KDYNlNUTTlSS21pQmM/edit\n",
    "# it's 1.9GB in size.\n",
    "\n",
    "\n",
    "# source ::: http://kavita-ganesan.com/gensim-word2vec-tutorial-starter-code/#.W17SRFAzZPY\n",
    "# you can comment this whole cell\n",
    "# or change these varible according to your need\n",
    "is_your_ram_gt_16g=True\n",
    "want_to_read_sub_set_of_google_w2v = True\n",
    "want_to_read_whole_google_w2v = True\n",
    "if not is_your_ram_gt_16g:\n",
    "    if want_to_read_sub_set_of_google_w2v and  os.path.isfile('google_w2v_for_amazon.pkl'):\n",
    "        with open('google_w2v_for_amazon.pkl', 'rb') as f:\n",
    "            # model is dict object, you can directly access any word vector using model[word]\n",
    "            model = pickle.load(f)\n",
    "else:\n",
    "    if want_to_read_whole_google_w2v and os.path.isfile('GoogleNews-vectors-negative300.bin'):\n",
    "        model = KeyedVectors.load_word2vec_format('GoogleNews-vectors-negative300.bin', binary=True)\n",
    "\n",
    "# print(\"the vector representation of word 'computer'\",model.wv['computer'])\n",
    "# print(\"the similarity between the words 'woman' and 'man'\",model.wv.similarity('woman', 'man'))\n",
    "# print(\"the most similar words to the word 'woman'\",model.wv.most_similar('woman'))\n",
    "# this will raise an error\n",
    "# model.wv.most_similar('tasti')  # \"tasti\" is the stemmed word for tasty, tastful"
   ]
  },
  {
   "cell_type": "code",
   "execution_count": 45,
   "metadata": {
    "colab": {},
    "colab_type": "code",
    "id": "xri0AfSJMQwe"
   },
   "outputs": [],
   "source": [
    "# Train your own Word2Vec model using your own text corpus (here we are using only 5000 reviews )\n",
    "#each review will be broken into a word and stored in a list\n",
    "i=0\n",
    "list_of_sent=[]\n",
    "for sent in final['CleanedText'].values:\n",
    "    list_of_sent.append(sent.split())"
   ]
  },
  {
   "cell_type": "code",
   "execution_count": 46,
   "metadata": {
    "colab": {},
    "colab_type": "code",
    "id": "eRUcB7DlMQwi"
   },
   "outputs": [
    {
     "name": "stdout",
     "output_type": "stream",
     "text": [
      "5000\n",
      "alway enjoy movi funni entertain didnt hesit pick clamshel edit guess market plan make movi famili someth elimin strong profan element usual edit televis version warn want uncut version avoid clamshel edit\n",
      "*****************************************************************\n",
      "['alway', 'enjoy', 'movi', 'funni', 'entertain', 'didnt', 'hesit', 'pick', 'clamshel', 'edit', 'guess', 'market', 'plan', 'make', 'movi', 'famili', 'someth', 'elimin', 'strong', 'profan', 'element', 'usual', 'edit', 'televis', 'version', 'warn', 'want', 'uncut', 'version', 'avoid', 'clamshel', 'edit']\n"
     ]
    }
   ],
   "source": [
    "print(len(list_of_sent))\n",
    "print(final['CleanedText'].values[0])\n",
    "print(\"*****************************************************************\")\n",
    "print(list_of_sent[0])"
   ]
  },
  {
   "cell_type": "code",
   "execution_count": 47,
   "metadata": {
    "colab": {},
    "colab_type": "code",
    "id": "xA_ZepwsMQwl"
   },
   "outputs": [],
   "source": [
    "# min_count = 5 considers only words that occured atleast 5 times\n",
    "w2v_model=Word2Vec(list_of_sent,min_count=5,size=50, workers=4)"
   ]
  },
  {
   "cell_type": "code",
   "execution_count": 48,
   "metadata": {
    "colab": {},
    "colab_type": "code",
    "id": "as5kes83MQwn",
    "scrolled": true
   },
   "outputs": [
    {
     "name": "stdout",
     "output_type": "stream",
     "text": [
      "number of words that occured minimum 5 times  3360\n",
      "sample words  ['heart', 'blue', 'lemon', 'adopt', 'feeder', 'burn', 'costco', 'cuisin', 'nestl', 'reaction', 'live', 'replac', 'francisco', 'gorgeous', 'construct', 'key', 'refil', 'suspect', 'sooner', 'assort', 'gumbal', 'greasi', 'junk', 'mad', 'plain', 'favorit', 'diet', 'gotta', 'primari', 'epa', 'newborn', 'dont', 'bean', 'equal', 'essenti', 'adult', 'browni', 'lamb', 'weekend', 'felin', 'reveal', 'tase', 'spend', 'worst', 'aliv', 'approv', 'sensat', 'bowel', 'forest', 'mulch']\n"
     ]
    }
   ],
   "source": [
    "w2v_words = list(w2v_model.wv.vocab)\n",
    "print(\"number of words that occured minimum 5 times \",len(w2v_words))\n",
    "print(\"sample words \", w2v_words[0:50])"
   ]
  },
  {
   "cell_type": "code",
   "execution_count": 49,
   "metadata": {
    "colab": {},
    "colab_type": "code",
    "id": "X1EVyAnEMQwo"
   },
   "outputs": [
    {
     "data": {
      "text/plain": [
       "[('salti', 0.999245285987854),\n",
       " ('crunchi', 0.9988507032394409),\n",
       " ('crave', 0.9987400770187378),\n",
       " ('isnt', 0.9984949827194214),\n",
       " ('bake', 0.9984420537948608),\n",
       " ('lack', 0.9984387159347534),\n",
       " ('potato', 0.9984310865402222),\n",
       " ('strawberri', 0.9984254837036133),\n",
       " ('creami', 0.9983459711074829),\n",
       " ('over', 0.9979851245880127)]"
      ]
     },
     "execution_count": 49,
     "metadata": {},
     "output_type": "execute_result"
    }
   ],
   "source": [
    "w2v_model.wv.most_similar('tasti')"
   ]
  },
  {
   "cell_type": "code",
   "execution_count": 50,
   "metadata": {
    "colab": {},
    "colab_type": "code",
    "id": "WeKWZN4eMQws"
   },
   "outputs": [
    {
     "data": {
      "text/plain": [
       "[('smell', 0.970767080783844),\n",
       " ('realli', 0.9699358940124512),\n",
       " ('tast', 0.9685978889465332),\n",
       " ('sweet', 0.9546635150909424),\n",
       " ('strong', 0.954232394695282),\n",
       " ('doesnt', 0.9531803727149963),\n",
       " ('flavor', 0.9482420682907104),\n",
       " ('artifici', 0.9454734325408936),\n",
       " ('bitter', 0.9373154640197754),\n",
       " ('butter', 0.9254043102264404)]"
      ]
     },
     "execution_count": 50,
     "metadata": {},
     "output_type": "execute_result"
    }
   ],
   "source": [
    "w2v_model.wv.most_similar('like')"
   ]
  },
  {
   "cell_type": "markdown",
   "metadata": {
    "colab_type": "text",
    "id": "V1eebHVHMQwv"
   },
   "source": [
    "#  Avg W2V, TFIDF-W2V"
   ]
  },
  {
   "cell_type": "code",
   "execution_count": 51,
   "metadata": {
    "colab": {},
    "colab_type": "code",
    "id": "TMrT0BciMQww",
    "scrolled": true
   },
   "outputs": [
    {
     "name": "stderr",
     "output_type": "stream",
     "text": [
      "100%|██████████| 5000/5000 [00:08<00:00, 611.95it/s]"
     ]
    },
    {
     "name": "stdout",
     "output_type": "stream",
     "text": [
      "5000\n",
      "50\n"
     ]
    },
    {
     "name": "stderr",
     "output_type": "stream",
     "text": [
      "\n"
     ]
    }
   ],
   "source": [
    "# average Word2Vec\n",
    "# compute average word2vec for each review.\n",
    "sent_vectors = []; # the avg-w2v for each sentence/review is stored in this list\n",
    "for sent in tqdm(list_of_sent): # for each review/sentence#first 10000\n",
    "    sent_vec = np.zeros(50) # as word vectors are of zero length\n",
    "    cnt_words =0; # num of words with a valid vector in the sentence/review\n",
    "    for word in sent: # for each word in a review/sentence\n",
    "        if word in w2v_words:\n",
    "            vec = w2v_model.wv[word]\n",
    "            sent_vec += vec\n",
    "            cnt_words += 1\n",
    "    if cnt_words != 0:\n",
    "        sent_vec /= cnt_words\n",
    "    sent_vectors.append(sent_vec)\n",
    "print(len(sent_vectors))\n",
    "print(len(sent_vectors[0]))"
   ]
  },
  {
   "cell_type": "code",
   "execution_count": 52,
   "metadata": {
    "colab": {},
    "colab_type": "code",
    "id": "EM2v872OMQwy"
   },
   "outputs": [],
   "source": [
    "# S = [\"abc def pqr\", \"def def def abc\", \"pqr pqr def\"]\n",
    "model = TfidfVectorizer()\n",
    "tf_idf_matrix = model.fit_transform(final['CleanedText'].values)\n",
    "# we are converting a dictionary with word as a key, and the idf as a value\n",
    "dictionary = dict(zip(model.get_feature_names(), list(model.idf_)))"
   ]
  },
  {
   "cell_type": "code",
   "execution_count": 53,
   "metadata": {
    "colab": {},
    "colab_type": "code",
    "id": "Z0Kg_dbxMQw0"
   },
   "outputs": [
    {
     "name": "stderr",
     "output_type": "stream",
     "text": [
      "100%|██████████| 5000/5000 [00:09<00:00, 508.78it/s]\n"
     ]
    }
   ],
   "source": [
    "# TF-IDF weighted Word2Vec\n",
    "tfidf_feat = model.get_feature_names() # tfidf words/col-names\n",
    "# final_tf_idf is the sparse matrix with row= sentence, col=word and cell_val = tfidf\n",
    "\n",
    "tfidf_sent_vectors = []; # the tfidf-w2 v for each sentence/review is stored in this list\n",
    "row=0;\n",
    "#list_of_sent_vec_10000=list_of_sent[1:10000]#taking only first 10000\n",
    "for sent in tqdm(list_of_sent): # for each review/sentence \n",
    "    sent_vec = np.zeros(50) # as word vectors are of zero length\n",
    "    weight_sum =0; # num of words with a valid vector in the sentence/review\n",
    "    for word in sent: # for each word in a review/sentence\n",
    "        if word in w2v_words:\n",
    "            vec = w2v_model.wv[word]\n",
    "#             tf_idf = tf_idf_matrix[row, tfidf_feat.index(word)]\n",
    "            # to reduce the computation we are \n",
    "            # dictionary[word] = idf value of word in whole courpus\n",
    "            # sent.count(word) = tf valeus of word in this review\n",
    "            tf_idf = dictionary[word]*(sent.count(word)/len(sent))\n",
    "            sent_vec += (vec * tf_idf)\n",
    "            weight_sum += tf_idf\n",
    "    if weight_sum != 0:\n",
    "        sent_vec /= weight_sum\n",
    "    tfidf_sent_vectors.append(sent_vec)\n",
    "    row += 1"
   ]
  },
  {
   "cell_type": "raw",
   "metadata": {},
   "source": [
    "so we try to use k-nn alogithm on this dataset such that \n",
    "we could find predict between the categories of data points(+ve and -ve)"
   ]
  },
  {
   "cell_type": "markdown",
   "metadata": {},
   "source": [
    "# K-NN ON BAG OF WORDS"
   ]
  },
  {
   "cell_type": "code",
   "execution_count": 54,
   "metadata": {},
   "outputs": [],
   "source": [
    "#importing all required libraries\n",
    "from sklearn.cross_validation import train_test_split\n",
    "from sklearn.neighbors import KNeighborsClassifier\n",
    "from sklearn.metrics import accuracy_score\n",
    "from sklearn.cross_validation import cross_val_score\n",
    "from collections import Counter\n",
    "from sklearn.metrics import accuracy_score\n",
    "from sklearn import cross_validation"
   ]
  },
  {
   "cell_type": "markdown",
   "metadata": {},
   "source": [
    "# here we split data based on the time other than random splitting"
   ]
  },
  {
   "cell_type": "code",
   "execution_count": 55,
   "metadata": {},
   "outputs": [],
   "source": [
    "#splitting parameters\n",
    "train_percentage_split = 0.7\n",
    "count_row = final_counts.shape[0] \n",
    "no_of_rows_train = int(count_row*0.7)\n",
    "no_of_rows_test = count_row - no_of_rows_train"
   ]
  },
  {
   "cell_type": "code",
   "execution_count": 77,
   "metadata": {},
   "outputs": [
    {
     "name": "stdout",
     "output_type": "stream",
     "text": [
      "shape of train data  --> (3500, 9820) shape of test data  --> (1500, 9820)\n",
      "1    1797\n",
      "0    1703\n",
      "Name: Score, dtype: int64 0    797\n",
      "1    703\n",
      "Name: Score, dtype: int64\n"
     ]
    }
   ],
   "source": [
    "#splitting the data into train and test\n",
    "X_1 = final_counts[:no_of_rows_train]\n",
    "X_test = final_counts[no_of_rows_train:]\n",
    "y_1  = score[:no_of_rows_train]\n",
    "y_test = score[no_of_rows_train:]\n",
    "print(\"shape of train data  -->\",X_1.shape,\"shape of test data  -->\",X_test.shape)\n",
    "print(y_1.value_counts(),y_test.value_counts())"
   ]
  },
  {
   "cell_type": "code",
   "execution_count": 78,
   "metadata": {},
   "outputs": [],
   "source": [
    "#splitting training data into cross validation test and cross validation train.\n",
    "percentage_cv_split=0.7\n",
    "no_of_cv_train_rows = int(percentage_cv_split * no_of_rows_train)\n",
    "no_of_cv_test_rows  = no_of_rows_train - no_of_cv_train_rows\n",
    "#print(no_of_cv_train_rows ,no_of_cv_test_rows)\n",
    "X_tr = X_1[:no_of_cv_train_rows]\n",
    "X_cv = X_1[no_of_cv_train_rows:]\n",
    "y_tr = y_1[:no_of_cv_train_rows]\n",
    "y_cv = y_1[no_of_cv_train_rows:]"
   ]
  },
  {
   "cell_type": "code",
   "execution_count": 59,
   "metadata": {},
   "outputs": [],
   "source": [
    "def run_knn(X_tr, y_tr,X_cv,y_cv,algo):\n",
    "    for i in range(1,30,2):\n",
    "        # instantiate learning model (k = 30)\n",
    "        knn = KNeighborsClassifier(n_neighbors=i)\n",
    "\n",
    "        # fitting the model on crossvalidation train\n",
    "        knn.fit(X_tr, y_tr)\n",
    "\n",
    "        # predict the response on the crossvalidation train\n",
    "        pred = knn.predict(X_cv)\n",
    "\n",
    "        # evaluate CV accuracy\n",
    "        acc = accuracy_score(y_cv, pred, normalize=True) * float(100)\n",
    "        print('\\nCV accuracy for k = %d is %d%%' % (i, acc))\n",
    "    \n"
   ]
  },
  {
   "cell_type": "code",
   "execution_count": 64,
   "metadata": {},
   "outputs": [
    {
     "name": "stdout",
     "output_type": "stream",
     "text": [
      "\n",
      "CV accuracy for k = 1 is 58%\n",
      "\n",
      "CV accuracy for k = 3 is 60%\n",
      "\n",
      "CV accuracy for k = 5 is 63%\n",
      "\n",
      "CV accuracy for k = 7 is 62%\n",
      "\n",
      "CV accuracy for k = 9 is 63%\n",
      "\n",
      "CV accuracy for k = 11 is 64%\n",
      "\n",
      "CV accuracy for k = 13 is 64%\n",
      "\n",
      "CV accuracy for k = 15 is 64%\n",
      "\n",
      "CV accuracy for k = 17 is 63%\n",
      "\n",
      "CV accuracy for k = 19 is 63%\n",
      "\n",
      "CV accuracy for k = 21 is 62%\n",
      "\n",
      "CV accuracy for k = 23 is 61%\n",
      "\n",
      "CV accuracy for k = 25 is 61%\n",
      "\n",
      "CV accuracy for k = 27 is 61%\n",
      "\n",
      "CV accuracy for k = 29 is 61%\n",
      "\n",
      "****Test accuracy for k = 11 is 62%\n"
     ]
    }
   ],
   "source": [
    "#with brute-force algorithm\n",
    "run_knn(X_tr, y_tr,X_cv,y_cv,'brute')\n",
    "knn = KNeighborsClassifier(11)\n",
    "knn.fit(X_tr,y_tr)\n",
    "pred = knn.predict(X_test)\n",
    "acc = accuracy_score(y_test, pred, normalize=True) * float(100)\n",
    "print('\\n****Test accuracy for k = 11 is %d%%' % (acc))"
   ]
  },
  {
   "cell_type": "code",
   "execution_count": 61,
   "metadata": {},
   "outputs": [],
   "source": [
    "# so we get highest accuracy at k = 11 which is 66% and the test accuracy for that 'k' is 62%"
   ]
  },
  {
   "cell_type": "code",
   "execution_count": 65,
   "metadata": {},
   "outputs": [
    {
     "name": "stdout",
     "output_type": "stream",
     "text": [
      "\n",
      "CV accuracy for k = 1 is 58%\n",
      "\n",
      "CV accuracy for k = 3 is 60%\n",
      "\n",
      "CV accuracy for k = 5 is 63%\n",
      "\n",
      "CV accuracy for k = 7 is 62%\n",
      "\n",
      "CV accuracy for k = 9 is 63%\n",
      "\n",
      "CV accuracy for k = 11 is 64%\n",
      "\n",
      "CV accuracy for k = 13 is 64%\n",
      "\n",
      "CV accuracy for k = 15 is 64%\n",
      "\n",
      "CV accuracy for k = 17 is 63%\n",
      "\n",
      "CV accuracy for k = 19 is 63%\n",
      "\n",
      "CV accuracy for k = 21 is 62%\n",
      "\n",
      "CV accuracy for k = 23 is 61%\n",
      "\n",
      "CV accuracy for k = 25 is 61%\n",
      "\n",
      "CV accuracy for k = 27 is 61%\n",
      "\n",
      "CV accuracy for k = 29 is 61%\n"
     ]
    }
   ],
   "source": [
    "#with brute-force algorithm\n",
    "run_knn(X_tr, y_tr,X_cv,y_cv,'kd_tree')\n"
   ]
  },
  {
   "cell_type": "code",
   "execution_count": 70,
   "metadata": {},
   "outputs": [],
   "source": [
    "def knn_pred_with_test_data(k_var,X_tr,y_tr,X_test,y_test):\n",
    "    knn = KNeighborsClassifier(k_var)\n",
    "    knn.fit(X_tr,y_tr)\n",
    "    pred = knn.predict(X_test)\n",
    "    acc = accuracy_score(y_test, pred, normalize=True) * float(100)\n",
    "    print('\\n****Test accuracy for k = ',k_var,' is %d%%' % (acc))"
   ]
  },
  {
   "cell_type": "code",
   "execution_count": 72,
   "metadata": {},
   "outputs": [
    {
     "name": "stdout",
     "output_type": "stream",
     "text": [
      "\n",
      "****Test accuracy for k =  11  is 62%\n"
     ]
    }
   ],
   "source": [
    "knn_pred_with_test_data(11,X_tr,y_tr,X_test,y_test)"
   ]
  },
  {
   "cell_type": "raw",
   "metadata": {},
   "source": [
    "# with kd-tree highest cv-accuracy is at k=11 but test accuracy is 64%"
   ]
  },
  {
   "cell_type": "markdown",
   "metadata": {},
   "source": [
    "# k-nn  using 10-fold cross validation "
   ]
  },
  {
   "cell_type": "code",
   "execution_count": 89,
   "metadata": {
    "scrolled": true
   },
   "outputs": [],
   "source": [
    "# creating odd list of K for KNN\n",
    "def ten_fold_knn(X_tr, y_tr):\n",
    "    myList = list(range(0,50))\n",
    "    neighbors = list(filter(lambda x: x % 2 != 0, myList))\n",
    "\n",
    "    # empty list that will hold cv scores\n",
    "    cv_scores = []\n",
    "\n",
    "    # perform 10-fold cross validation\n",
    "    for k in neighbors:\n",
    "        knn = KNeighborsClassifier(n_neighbors=k)\n",
    "        scores = cross_val_score(knn, X_tr, y_tr, cv=10, scoring='accuracy')\n",
    "        cv_scores.append(scores.mean())\n",
    "\n",
    "    # changing to misclassification error\n",
    "    MSE = [1 - x for x in cv_scores]\n",
    "\n",
    "    # determining best k\n",
    "    optimal_k = neighbors[MSE.index(min(MSE))]\n",
    "    print('\\nThe optimal number of neighbors is %d.' % optimal_k)\n",
    "\n",
    "    # plot misclassification error vs k \n",
    "    plt.plot(neighbors, MSE)\n",
    "\n",
    "    for xy in zip(neighbors, np.round(MSE,3)):\n",
    "        plt.annotate('(%s, %s)' % xy, xy=xy, textcoords='data')\n",
    "\n",
    "    plt.xlabel('Number of Neighbors K')\n",
    "    plt.ylabel('Misclassification Error')\n",
    "    plt.show()\n",
    "\n",
    "    print(\"the misclassification error for each k value is : \", np.round(MSE,3))"
   ]
  },
  {
   "cell_type": "code",
   "execution_count": 79,
   "metadata": {},
   "outputs": [
    {
     "name": "stdout",
     "output_type": "stream",
     "text": [
      "\n",
      "The optimal number of neighbors is 9.\n"
     ]
    },
    {
     "data": {
      "image/png": "[encoded data removed]",
      "text/plain": [
       "<Figure size 432x288 with 1 Axes>"
      ]
     },
     "metadata": {},
     "output_type": "display_data"
    },
    {
     "name": "stdout",
     "output_type": "stream",
     "text": [
      "the misclassification error for each k value is :  [0.39  0.375 0.366 0.352 0.349 0.352 0.351 0.357 0.369 0.376 0.371 0.371\n",
      " 0.374 0.369 0.374 0.38  0.382 0.385 0.391 0.391 0.397 0.396 0.396 0.397\n",
      " 0.398]\n"
     ]
    }
   ],
   "source": [
    "ten_fold_knn(X_tr, y_tr)"
   ]
  },
  {
   "cell_type": "markdown",
   "metadata": {},
   "source": [
    "from 10-fold , the optimal k- obtained is 9 and the accuracy obtained is 66% from the graph"
   ]
  },
  {
   "cell_type": "code",
   "execution_count": 73,
   "metadata": {},
   "outputs": [
    {
     "name": "stdout",
     "output_type": "stream",
     "text": [
      "\n",
      "****Test accuracy for k =  9  is 62%\n"
     ]
    }
   ],
   "source": [
    "knn_pred_with_test_data(9,X_tr,y_tr,X_test,y_test)"
   ]
  },
  {
   "cell_type": "markdown",
   "metadata": {},
   "source": [
    "# K-NN ON tf-idf"
   ]
  },
  {
   "cell_type": "code",
   "execution_count": 86,
   "metadata": {},
   "outputs": [],
   "source": [
    "#splitting the data into train and test\n",
    "X_1 = final_tf_idf[:no_of_rows_train]\n",
    "X_test = final_tf_idf[no_of_rows_train:]\n",
    "X_tr = X_1[:no_of_cv_train_rows]\n",
    "X_cv = X_1[no_of_cv_train_rows:]"
   ]
  },
  {
   "cell_type": "code",
   "execution_count": 87,
   "metadata": {},
   "outputs": [
    {
     "name": "stdout",
     "output_type": "stream",
     "text": [
      "with brute force algorithm\n",
      "\n",
      "CV accuracy for k = 1 is 59%\n",
      "\n",
      "CV accuracy for k = 3 is 61%\n",
      "\n",
      "CV accuracy for k = 5 is 64%\n",
      "\n",
      "CV accuracy for k = 7 is 65%\n",
      "\n",
      "CV accuracy for k = 9 is 65%\n",
      "\n",
      "CV accuracy for k = 11 is 67%\n",
      "\n",
      "CV accuracy for k = 13 is 68%\n",
      "\n",
      "CV accuracy for k = 15 is 68%\n",
      "\n",
      "CV accuracy for k = 17 is 69%\n",
      "\n",
      "CV accuracy for k = 19 is 69%\n",
      "\n",
      "CV accuracy for k = 21 is 69%\n",
      "\n",
      "CV accuracy for k = 23 is 70%\n",
      "\n",
      "CV accuracy for k = 25 is 72%\n",
      "\n",
      "CV accuracy for k = 27 is 71%\n",
      "\n",
      "CV accuracy for k = 29 is 72%\n",
      "\n",
      "with kd-tree algorithm\n",
      "\n",
      "CV accuracy for k = 1 is 59%\n",
      "\n",
      "CV accuracy for k = 3 is 61%\n",
      "\n",
      "CV accuracy for k = 5 is 64%\n",
      "\n",
      "CV accuracy for k = 7 is 65%\n",
      "\n",
      "CV accuracy for k = 9 is 65%\n",
      "\n",
      "CV accuracy for k = 11 is 67%\n",
      "\n",
      "CV accuracy for k = 13 is 68%\n",
      "\n",
      "CV accuracy for k = 15 is 68%\n",
      "\n",
      "CV accuracy for k = 17 is 69%\n",
      "\n",
      "CV accuracy for k = 19 is 69%\n",
      "\n",
      "CV accuracy for k = 21 is 69%\n",
      "\n",
      "CV accuracy for k = 23 is 70%\n",
      "\n",
      "CV accuracy for k = 25 is 72%\n",
      "\n",
      "CV accuracy for k = 27 is 71%\n",
      "\n",
      "CV accuracy for k = 29 is 72%\n"
     ]
    }
   ],
   "source": [
    "#with brute-force algorithm\n",
    "print( \"with brute force algorithm\")\n",
    "run_knn(X_tr, y_tr,X_cv,y_cv,'brute')\n",
    "print( \"\\nwith kd-tree algorithm\")\n",
    "run_knn(X_tr, y_tr,X_cv,y_cv,'kd-tree')"
   ]
  },
  {
   "cell_type": "raw",
   "metadata": {},
   "source": [
    "for both brute force and kd-tree algorithm k- with maximum accuracy is 29 after k =29 , accuracy is getting stabilized which can also be obseved in ten_fold_knn"
   ]
  },
  {
   "cell_type": "code",
   "execution_count": 104,
   "metadata": {},
   "outputs": [
    {
     "name": "stdout",
     "output_type": "stream",
     "text": [
      "\n",
      "****Test accuracy for k =  29  is 69%\n"
     ]
    }
   ],
   "source": [
    "knn_pred_with_test_data(29,X_tr,y_tr,X_test,y_test)"
   ]
  },
  {
   "cell_type": "code",
   "execution_count": 99,
   "metadata": {},
   "outputs": [
    {
     "name": "stdout",
     "output_type": "stream",
     "text": [
      "\n",
      "The optimal number of neighbors is 43.\n"
     ]
    },
    {
     "data": {
      "image/png": "[encoded data removed]",
      "text/plain": [
       "<Figure size 432x288 with 1 Axes>"
      ]
     },
     "metadata": {},
     "output_type": "display_data"
    },
    {
     "name": "stdout",
     "output_type": "stream",
     "text": [
      "the misclassification error for each k value is :  [0.383 0.367 0.355 0.336 0.321 0.31  0.307 0.3   0.295 0.292 0.289 0.285\n",
      " 0.281 0.28  0.275 0.271 0.269 0.273 0.263 0.264 0.27  0.262 0.265 0.267\n",
      " 0.265]\n"
     ]
    }
   ],
   "source": [
    "#Ten-fold cv validation\n",
    "ten_fold_knn(X_tr, y_tr)"
   ]
  },
  {
   "cell_type": "code",
   "execution_count": 105,
   "metadata": {},
   "outputs": [
    {
     "name": "stdout",
     "output_type": "stream",
     "text": [
      "\n",
      "****Test accuracy for k =  43  is 70%\n"
     ]
    }
   ],
   "source": [
    "knn_pred_with_test_data(43,X_tr,y_tr,X_test,y_test)"
   ]
  },
  {
   "cell_type": "markdown",
   "metadata": {},
   "source": [
    "# K-NN  FOR AVG-W2V REPRESENTATION OF REVIEWS "
   ]
  },
  {
   "cell_type": "code",
   "execution_count": 106,
   "metadata": {},
   "outputs": [],
   "source": [
    "#splitting the data into train and test\n",
    "X_1 = sent_vectors[:no_of_rows_train]\n",
    "X_test = sent_vectors[no_of_rows_train:]\n",
    "X_tr = X_1[:no_of_cv_train_rows]\n",
    "X_cv = X_1[no_of_cv_train_rows:]"
   ]
  },
  {
   "cell_type": "code",
   "execution_count": 107,
   "metadata": {},
   "outputs": [
    {
     "name": "stdout",
     "output_type": "stream",
     "text": [
      "with brute force algorithm\n",
      "\n",
      "CV accuracy for k = 1 is 56%\n",
      "\n",
      "CV accuracy for k = 3 is 56%\n",
      "\n",
      "CV accuracy for k = 5 is 56%\n",
      "\n",
      "CV accuracy for k = 7 is 57%\n",
      "\n",
      "CV accuracy for k = 9 is 58%\n",
      "\n",
      "CV accuracy for k = 11 is 59%\n",
      "\n",
      "CV accuracy for k = 13 is 60%\n",
      "\n",
      "CV accuracy for k = 15 is 58%\n",
      "\n",
      "CV accuracy for k = 17 is 59%\n",
      "\n",
      "CV accuracy for k = 19 is 59%\n",
      "\n",
      "CV accuracy for k = 21 is 58%\n",
      "\n",
      "CV accuracy for k = 23 is 58%\n",
      "\n",
      "CV accuracy for k = 25 is 59%\n",
      "\n",
      "CV accuracy for k = 27 is 60%\n",
      "\n",
      "CV accuracy for k = 29 is 60%\n",
      "\n",
      "with kd-tree algorithm\n",
      "\n",
      "CV accuracy for k = 1 is 56%\n",
      "\n",
      "CV accuracy for k = 3 is 56%\n",
      "\n",
      "CV accuracy for k = 5 is 56%\n",
      "\n",
      "CV accuracy for k = 7 is 57%\n",
      "\n",
      "CV accuracy for k = 9 is 58%\n",
      "\n",
      "CV accuracy for k = 11 is 59%\n",
      "\n",
      "CV accuracy for k = 13 is 60%\n",
      "\n",
      "CV accuracy for k = 15 is 58%\n",
      "\n",
      "CV accuracy for k = 17 is 59%\n",
      "\n",
      "CV accuracy for k = 19 is 59%\n",
      "\n",
      "CV accuracy for k = 21 is 58%\n",
      "\n",
      "CV accuracy for k = 23 is 58%\n",
      "\n",
      "CV accuracy for k = 25 is 59%\n",
      "\n",
      "CV accuracy for k = 27 is 60%\n",
      "\n",
      "CV accuracy for k = 29 is 60%\n"
     ]
    }
   ],
   "source": [
    "#with brute-force algorithm\n",
    "print( \"with brute force algorithm\")\n",
    "run_knn(X_tr, y_tr,X_cv,y_cv,'brute')\n",
    "print( \"\\nwith kd-tree algorithm\")\n",
    "run_knn(X_tr, y_tr,X_cv,y_cv,'kd-tree')"
   ]
  },
  {
   "cell_type": "code",
   "execution_count": null,
   "metadata": {},
   "outputs": [],
   "source": [
    "# here also both brute force and kd-tree are giving the similar results"
   ]
  },
  {
   "cell_type": "code",
   "execution_count": 108,
   "metadata": {},
   "outputs": [
    {
     "name": "stdout",
     "output_type": "stream",
     "text": [
      "\n",
      "The optimal number of neighbors is 45.\n"
     ]
    },
    {
     "data": {
      "image/png": "[encoded data removed]",
      "text/plain": [
       "<Figure size 432x288 with 1 Axes>"
      ]
     },
     "metadata": {},
     "output_type": "display_data"
    },
    {
     "name": "stdout",
     "output_type": "stream",
     "text": [
      "the misclassification error for each k value is :  [0.435 0.41  0.41  0.405 0.399 0.395 0.402 0.401 0.394 0.388 0.386 0.382\n",
      " 0.38  0.385 0.382 0.38  0.378 0.382 0.378 0.376 0.374 0.374 0.372 0.378\n",
      " 0.377]\n"
     ]
    }
   ],
   "source": [
    "#Ten-fold cv validation\n",
    "ten_fold_knn(X_tr, y_tr)"
   ]
  },
  {
   "cell_type": "code",
   "execution_count": 113,
   "metadata": {},
   "outputs": [
    {
     "name": "stdout",
     "output_type": "stream",
     "text": [
      "\n",
      "****Test accuracy for k =  45  is 60%\n"
     ]
    }
   ],
   "source": [
    "knn_pred_with_test_data(45,X_tr,y_tr,X_test,y_test)"
   ]
  },
  {
   "cell_type": "markdown",
   "metadata": {},
   "source": [
    "# K-NN FOR TF-IDF-W2V REPRESENTATION OF REVIEWS"
   ]
  },
  {
   "cell_type": "code",
   "execution_count": 114,
   "metadata": {},
   "outputs": [],
   "source": [
    "#splitting the data into train and test\n",
    "X_1 = tfidf_sent_vectors[:no_of_rows_train]\n",
    "X_test = tfidf_sent_vectors[no_of_rows_train:]\n",
    "X_tr = X_1[:no_of_cv_train_rows]\n",
    "X_cv = X_1[no_of_cv_train_rows:]"
   ]
  },
  {
   "cell_type": "code",
   "execution_count": 115,
   "metadata": {},
   "outputs": [
    {
     "name": "stdout",
     "output_type": "stream",
     "text": [
      "with brute force algorithm\n",
      "\n",
      "CV accuracy for k = 1 is 54%\n",
      "\n",
      "CV accuracy for k = 3 is 55%\n",
      "\n",
      "CV accuracy for k = 5 is 58%\n",
      "\n",
      "CV accuracy for k = 7 is 57%\n",
      "\n",
      "CV accuracy for k = 9 is 58%\n",
      "\n",
      "CV accuracy for k = 11 is 58%\n",
      "\n",
      "CV accuracy for k = 13 is 59%\n",
      "\n",
      "CV accuracy for k = 15 is 56%\n",
      "\n",
      "CV accuracy for k = 17 is 57%\n",
      "\n",
      "CV accuracy for k = 19 is 58%\n",
      "\n",
      "CV accuracy for k = 21 is 58%\n",
      "\n",
      "CV accuracy for k = 23 is 59%\n",
      "\n",
      "CV accuracy for k = 25 is 59%\n",
      "\n",
      "CV accuracy for k = 27 is 60%\n",
      "\n",
      "CV accuracy for k = 29 is 58%\n",
      "\n",
      "with kd-tree algorithm\n",
      "\n",
      "CV accuracy for k = 1 is 54%\n",
      "\n",
      "CV accuracy for k = 3 is 55%\n",
      "\n",
      "CV accuracy for k = 5 is 58%\n",
      "\n",
      "CV accuracy for k = 7 is 57%\n",
      "\n",
      "CV accuracy for k = 9 is 58%\n",
      "\n",
      "CV accuracy for k = 11 is 58%\n",
      "\n",
      "CV accuracy for k = 13 is 59%\n",
      "\n",
      "CV accuracy for k = 15 is 56%\n",
      "\n",
      "CV accuracy for k = 17 is 57%\n",
      "\n",
      "CV accuracy for k = 19 is 58%\n",
      "\n",
      "CV accuracy for k = 21 is 58%\n",
      "\n",
      "CV accuracy for k = 23 is 59%\n",
      "\n",
      "CV accuracy for k = 25 is 59%\n",
      "\n",
      "CV accuracy for k = 27 is 60%\n",
      "\n",
      "CV accuracy for k = 29 is 58%\n"
     ]
    }
   ],
   "source": [
    "#with brute-force algorithm\n",
    "print( \"with brute force algorithm\")\n",
    "run_knn(X_tr, y_tr,X_cv,y_cv,'brute')\n",
    "print( \"\\nwith kd-tree algorithm\")\n",
    "run_knn(X_tr, y_tr,X_cv,y_cv,'kd-tree')"
   ]
  },
  {
   "cell_type": "markdown",
   "metadata": {},
   "source": [
    "#HERE BOTH ALGOS GAVE SIMILAR RESULT WITH HIGHEST ACCURACY OF 60%"
   ]
  },
  {
   "cell_type": "code",
   "execution_count": 116,
   "metadata": {},
   "outputs": [
    {
     "name": "stdout",
     "output_type": "stream",
     "text": [
      "\n",
      "The optimal number of neighbors is 49.\n"
     ]
    },
    {
     "data": {
      "image/png": "[encoded data removed]",
      "text/plain": [
       "<Figure size 432x288 with 1 Axes>"
      ]
     },
     "metadata": {},
     "output_type": "display_data"
    },
    {
     "name": "stdout",
     "output_type": "stream",
     "text": [
      "the misclassification error for each k value is :  [0.442 0.438 0.425 0.421 0.424 0.425 0.413 0.411 0.409 0.406 0.414 0.415\n",
      " 0.419 0.413 0.416 0.418 0.412 0.417 0.413 0.407 0.407 0.407 0.406 0.403\n",
      " 0.4  ]\n"
     ]
    }
   ],
   "source": [
    "#Ten-fold cv validation\n",
    "ten_fold_knn(X_tr, y_tr)"
   ]
  },
  {
   "cell_type": "code",
   "execution_count": 118,
   "metadata": {},
   "outputs": [
    {
     "name": "stdout",
     "output_type": "stream",
     "text": [
      "\n",
      "****Test accuracy for k =  49  is 57%\n"
     ]
    }
   ],
   "source": [
    "knn_pred_with_test_data(49,X_tr,y_tr,X_test,y_test)"
   ]
  },
  {
   "cell_type": "markdown",
   "metadata": {},
   "source": [
    "observations:\n",
    "    1)Both the algoriths brute force and kd-tree gave almost same result when applied k-nn using all \n",
    "    four representations(BOW,TF-IDF,AVG-W2V,TF-W2V).\n",
    "    2)k obtained using 10-fold validations are very nearer to the k's found using normal validation.\n",
    "    3)test accuracy for all type of representations lies almost in (65-72%) range .\n",
    "    4)since accuracies are getting stagnated after 50 without changing much even for very higher k's ,\n",
    "    we can say that data is pretty random and cannot be decided on any decision surface.\n",
    "    5)since accuracies are are below 70% we cannot stronly rely on this model to predict preview types."
   ]
  },
  {
   "cell_type": "code",
   "execution_count": null,
   "metadata": {},
   "outputs": [],
   "source": []
  }
 ],
 "metadata": {
  "colab": {
   "collapsed_sections": [
    "0Zhvc5AMMQwD"
   ],
   "name": "Amazon Fine Food Reviews Analysis.ipynb",
   "provenance": [],
   "version": "0.3.2"
  },
  "kernelspec": {
   "display_name": "Python 3",
   "language": "python",
   "name": "python3"
  },
  "language_info": {
   "codemirror_mode": {
    "name": "ipython",
    "version": 3
   },
   "file_extension": ".py",
   "mimetype": "text/x-python",
   "name": "python",
   "nbconvert_exporter": "python",
   "pygments_lexer": "ipython3",
   "version": "3.5.3"
  }
 },
 "nbformat": 4,
 "nbformat_minor": 1
}
